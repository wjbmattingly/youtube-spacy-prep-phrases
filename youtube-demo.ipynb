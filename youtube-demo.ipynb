{
 "cells": [
  {
   "cell_type": "code",
   "execution_count": 3,
   "id": "f225760a-ac72-4198-b152-ed375653be5e",
   "metadata": {},
   "outputs": [],
   "source": [
    "import spacy\n",
    "from spacy.tokens import Doc\n",
    "Doc.set_extension(\"pps\", default=False)"
   ]
  },
  {
   "cell_type": "code",
   "execution_count": 6,
   "id": "92cbc618-40c0-42b7-a549-794813f1c5c0",
   "metadata": {},
   "outputs": [],
   "source": [
    "nlp = spacy.load(\"en_core_web_sm\")"
   ]
  },
  {
   "cell_type": "code",
   "execution_count": 30,
   "id": "58e52644-1a12-4441-aa17-3467bc21da17",
   "metadata": {},
   "outputs": [],
   "source": [
    "text = \"The dog ran into the stores. The dog jumped over the gate.\"\n",
    "doc = nlp(text)\n",
    "pps = []\n",
    "for i, token in enumerate(doc):\n",
    "    if token.pos_ == \"ADP\":\n",
    "        pp = [token.text for token in token.subtree]\n",
    "        pp_text = \" \".join(pp)\n",
    "        pps.append(doc[i:i+len(pp)])\n",
    "    doc._.pps = pps"
   ]
  },
  {
   "cell_type": "code",
   "execution_count": 31,
   "id": "d98a2aea-1cba-489c-b859-0d7de31476e9",
   "metadata": {},
   "outputs": [
    {
     "data": {
      "text/plain": [
       "'store'"
      ]
     },
     "execution_count": 31,
     "metadata": {},
     "output_type": "execute_result"
    }
   ],
   "source": [
    "doc._.pps[0][2].lemma_"
   ]
  },
  {
   "cell_type": "code",
   "execution_count": null,
   "id": "f0e59cf4-0448-4390-8ab5-58bfda106f52",
   "metadata": {},
   "outputs": [],
   "source": []
  }
 ],
 "metadata": {
  "kernelspec": {
   "display_name": "Python 3 (ipykernel)",
   "language": "python",
   "name": "python3"
  },
  "language_info": {
   "codemirror_mode": {
    "name": "ipython",
    "version": 3
   },
   "file_extension": ".py",
   "mimetype": "text/x-python",
   "name": "python",
   "nbconvert_exporter": "python",
   "pygments_lexer": "ipython3",
   "version": "3.8.5"
  }
 },
 "nbformat": 4,
 "nbformat_minor": 5
}
