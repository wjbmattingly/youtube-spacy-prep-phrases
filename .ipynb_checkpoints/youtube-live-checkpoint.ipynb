{
 "cells": [
  {
   "cell_type": "code",
   "execution_count": 13,
   "id": "3338bb95-9cf5-42f9-a105-c42e9a00b3e9",
   "metadata": {},
   "outputs": [],
   "source": [
    "import spacy\n",
    "from spacy.tokens import Doc\n",
    "Doc.set_extension(\"pps\", default=False)"
   ]
  },
  {
   "cell_type": "code",
   "execution_count": 25,
   "id": "95e1fa78-eed0-4736-83f4-607b3e7ba5aa",
   "metadata": {},
   "outputs": [],
   "source": [
    "text = \"The dog runs into the stores. The dog jumps over the gates.\""
   ]
  },
  {
   "cell_type": "code",
   "execution_count": 26,
   "id": "df60c7b7-15c0-4a77-8a5c-b1148a1dc7c3",
   "metadata": {},
   "outputs": [],
   "source": [
    "nlp = spacy.load(\"en_core_web_sm\")"
   ]
  },
  {
   "cell_type": "code",
   "execution_count": 27,
   "id": "e1a99fc3-583b-4c21-817d-4dfc3e22d684",
   "metadata": {},
   "outputs": [],
   "source": [
    "doc = nlp(text)"
   ]
  },
  {
   "cell_type": "code",
   "execution_count": 29,
   "id": "25a6dfcd-90fc-4a1a-89e6-cd094b082064",
   "metadata": {},
   "outputs": [
    {
     "name": "stdout",
     "output_type": "stream",
     "text": [
      "into ADP\n",
      "[into, the, stores]\n",
      "['into', 'the', 'stores']\n",
      "into the stores\n",
      "over ADP\n",
      "[over, the, gates]\n",
      "['over', 'the', 'gates']\n",
      "over the gates\n"
     ]
    }
   ],
   "source": [
    "pps = []\n",
    "for i, token in enumerate(doc):\n",
    "    if token.pos_ == \"ADP\":\n",
    "        print(token, token.pos_)\n",
    "        print(list(token.subtree))\n",
    "        raw_tokens = []\n",
    "        for item in token.subtree:\n",
    "            raw_tokens.append(item.text)\n",
    "        raw_text = \" \".join(raw_tokens)\n",
    "        print(raw_tokens)\n",
    "        print(raw_text)\n",
    "        pps.append(doc[i:i+len(raw_tokens)])"
   ]
  },
  {
   "cell_type": "code",
   "execution_count": 30,
   "id": "e3ec4540-ca29-4801-94fa-9b0c5d07da89",
   "metadata": {},
   "outputs": [],
   "source": [
    "doc._.pps = pps"
   ]
  },
  {
   "cell_type": "code",
   "execution_count": 35,
   "id": "551d4601-aca4-49d0-a501-f96c7dedeb39",
   "metadata": {},
   "outputs": [
    {
     "name": "stdout",
     "output_type": "stream",
     "text": [
      "NOUN\n",
      "NOUN\n"
     ]
    }
   ],
   "source": [
    "for pp in doc._.pps:\n",
    "    print(pp[2].pos_)"
   ]
  },
  {
   "cell_type": "code",
   "execution_count": null,
   "id": "0e8face7-1da6-42b5-b97a-27202054557f",
   "metadata": {},
   "outputs": [],
   "source": []
  }
 ],
 "metadata": {
  "kernelspec": {
   "display_name": "Python 3 (ipykernel)",
   "language": "python",
   "name": "python3"
  },
  "language_info": {
   "codemirror_mode": {
    "name": "ipython",
    "version": 3
   },
   "file_extension": ".py",
   "mimetype": "text/x-python",
   "name": "python",
   "nbconvert_exporter": "python",
   "pygments_lexer": "ipython3",
   "version": "3.8.5"
  }
 },
 "nbformat": 4,
 "nbformat_minor": 5
}
